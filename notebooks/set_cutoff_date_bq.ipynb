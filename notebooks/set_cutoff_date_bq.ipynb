{
 "cells": [
  {
   "cell_type": "code",
   "execution_count": 1,
   "id": "a81bb400",
   "metadata": {},
   "outputs": [],
   "source": [
    "from google.cloud import bigquery\n",
    "from google.cloud.exceptions import NotFound\n",
    "\n",
    "import os\n",
    "import json"
   ]
  },
  {
   "cell_type": "code",
   "execution_count": 2,
   "id": "aab3efac",
   "metadata": {},
   "outputs": [],
   "source": [
    "path = os.getcwd()"
   ]
  },
  {
   "cell_type": "code",
   "execution_count": 3,
   "id": "3b727e8d",
   "metadata": {
    "tags": [
     "parameters"
    ]
   },
   "outputs": [],
   "source": [
    "newCutoff = \"\"\n",
    "fromNotebook = True\n",
    "warehouse = \"\"\n",
    "sparkMaster = \"local[*]\"\n",
    "retriesMax = 2"
   ]
  },
  {
   "cell_type": "code",
   "execution_count": 4,
   "id": "0ff6ea9f",
   "metadata": {},
   "outputs": [],
   "source": [
    "jars = \"\"\n",
    "\n",
    "if fromNotebook:\n",
    "    f = open('set_cutoff_date_bq.json',)\n",
    "    config = json.load(f)\n",
    "    f.close()\n",
    "\n",
    "    newCutoff = config[\"cutoff_date\"]\n",
    "    warehouse = config[\"warehouse\"]\n",
    "    os.environ[\"GOOGLE_APPLICATION_CREDENTIALS\"] = \"../resources/credentials/bigquery_token.json\"\n",
    "else:\n",
    "    jars = \"{0}/resources/jars/mssql-jdbc-13.2.0.jre11.jar,{0}/resources/jars/spark-bigquery-with-dependencies_2.12-0.42.2.jar\".format(path)\n",
    "    os.environ[\"GOOGLE_APPLICATION_CREDENTIALS\"] = f\"{path}/resources/credentials/bigquery_token.json\""
   ]
  },
  {
   "cell_type": "code",
   "execution_count": 5,
   "id": "f7e2cd99",
   "metadata": {},
   "outputs": [
    {
     "data": {
      "text/plain": [
       "<google.cloud.bigquery.client.Client at 0x26ac37675e0>"
      ]
     },
     "execution_count": 5,
     "metadata": {},
     "output_type": "execute_result"
    }
   ],
   "source": [
    "bqClient = bigquery.Client(project=warehouse[\"database\"])\n",
    "bqClient"
   ]
  },
  {
   "cell_type": "code",
   "execution_count": null,
   "id": "34fb311e",
   "metadata": {},
   "outputs": [
    {
     "name": "stdout",
     "output_type": "stream",
     "text": [
      "\n",
      "                    CREATE TABLE IF NOT EXISTS `dbt-tutorial-462014`.`WideWorldImportersDW`.`LatestCutoffDate` (\n",
      "                        cutoff_date DATETIME\n",
      "                    );\n",
      "                    INSERT INTO `dbt-tutorial-462014`.`WideWorldImportersDW`.`LatestCutoffDate` (cutoff_date)\n",
      "                    VALUES ('2013-01-01 00:00:00');\n",
      "                \n"
     ]
    }
   ],
   "source": [
    "def set_cutoff_date():\n",
    "    whDatabase = warehouse[\"database\"]\n",
    "    whSchema = warehouse[\"schema\"]\n",
    "    whDbTableFrom = f\"`{whDatabase}`.`{whSchema}`.`LatestCutoffDate`\"\n",
    "    retries = 0\n",
    "    isSuccessful = False\n",
    "\n",
    "    while retries < retriesMax:    \n",
    "        \n",
    "        retries = retries + 1\n",
    "        \n",
    "        try:\n",
    "    \n",
    "            # check if table exists\n",
    "            try:\n",
    "\n",
    "                setSql = f\"\"\"\n",
    "                    CREATE TABLE IF NOT EXISTS {whDbTableFrom} (\n",
    "                        cutoff_date DATETIME\n",
    "                    );\n",
    "                    TRUNCATE TABLE {whDbTableFrom};\n",
    "                    INSERT INTO {whDbTableFrom} (cutoff_date)\n",
    "                    VALUES ('{newCutoff}');\n",
    "                \"\"\"\n",
    "\n",
    "                print(setSql)\n",
    "                \n",
    "                insertCutoffDateJob = bqClient.query(setSql)\n",
    "                \n",
    "                insertCutoffDateJob.result()\n",
    "\n",
    "                retries = retriesMax\n",
    "                isSuccessful = True\n",
    "\n",
    "            except NotFound:\n",
    "                retries = retriesMax\n",
    "                isSuccessful = True\n",
    "            except Exception as ex:\n",
    "                raise ex\n",
    "\n",
    "        except Exception as ex:\n",
    "            if retries >= retriesMax:\n",
    "                raise ex\n",
    "\n",
    "    if isSuccessful == False:\n",
    "        raise Exception(\"Unable to set cutoff date\")\n",
    "    \n",
    "set_cutoff_date()"
   ]
  }
 ],
 "metadata": {
  "kernelspec": {
   "display_name": ".venv (3.10.11)",
   "language": "python",
   "name": "python3"
  },
  "language_info": {
   "codemirror_mode": {
    "name": "ipython",
    "version": 3
   },
   "file_extension": ".py",
   "mimetype": "text/x-python",
   "name": "python",
   "nbconvert_exporter": "python",
   "pygments_lexer": "ipython3",
   "version": "3.10.11"
  }
 },
 "nbformat": 4,
 "nbformat_minor": 5
}
